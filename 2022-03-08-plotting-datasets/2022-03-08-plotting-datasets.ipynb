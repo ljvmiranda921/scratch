{
 "cells": [
  {
   "cell_type": "markdown",
   "id": "8abe1a49",
   "metadata": {},
   "source": [
    "# Plotting NER Datasets\n",
    "\n",
    "In this notebook, we'll try to plot the following characteristics:\n",
    "- Length as a function of frequency\n",
    "- BD and SD"
   ]
  },
  {
   "cell_type": "markdown",
   "id": "7ba6b5fe",
   "metadata": {},
   "source": [
    "I can just type the data instead of loading it in"
   ]
  },
  {
   "cell_type": "code",
   "execution_count": 1,
   "id": "6991ac33",
   "metadata": {},
   "outputs": [],
   "source": [
    "import pandas as pd\n",
    "import altair as alt"
   ]
  },
  {
   "cell_type": "code",
   "execution_count": 2,
   "id": "fa0fcc7f",
   "metadata": {},
   "outputs": [],
   "source": [
    "data = {\n",
    "    \"riqua\": [7.03, 4026, 1.65, 1.16],\n",
    "    \"parc\": [7.89, 16840, 1.34, 1.43],\n",
    "    \"conll00\": [1.55, 37168, 1.27, 0.44],\n",
    "    \"conll03\": [1.34, 5874, 2.79, 1.06],\n",
    "    \"ontonotes\": [1.62, 16861, 3.35, 1.00],\n",
    "    \"ebmnlp\": [3.65, 21788, 0.71, 0.59],\n",
    "}"
   ]
  },
  {
   "cell_type": "code",
   "execution_count": 3,
   "id": "9f4d0848",
   "metadata": {},
   "outputs": [
    {
     "data": {
      "text/html": [
       "<div>\n",
       "<style scoped>\n",
       "    .dataframe tbody tr th:only-of-type {\n",
       "        vertical-align: middle;\n",
       "    }\n",
       "\n",
       "    .dataframe tbody tr th {\n",
       "        vertical-align: top;\n",
       "    }\n",
       "\n",
       "    .dataframe thead th {\n",
       "        text-align: right;\n",
       "    }\n",
       "</style>\n",
       "<table border=\"1\" class=\"dataframe\">\n",
       "  <thead>\n",
       "    <tr style=\"text-align: right;\">\n",
       "      <th></th>\n",
       "      <th>dataset</th>\n",
       "      <th>length</th>\n",
       "      <th>frequency</th>\n",
       "      <th>sd</th>\n",
       "      <th>bd</th>\n",
       "    </tr>\n",
       "  </thead>\n",
       "  <tbody>\n",
       "    <tr>\n",
       "      <th>0</th>\n",
       "      <td>riqua</td>\n",
       "      <td>7.03</td>\n",
       "      <td>4026</td>\n",
       "      <td>1.65</td>\n",
       "      <td>1.16</td>\n",
       "    </tr>\n",
       "    <tr>\n",
       "      <th>1</th>\n",
       "      <td>parc</td>\n",
       "      <td>7.89</td>\n",
       "      <td>16840</td>\n",
       "      <td>1.34</td>\n",
       "      <td>1.43</td>\n",
       "    </tr>\n",
       "    <tr>\n",
       "      <th>2</th>\n",
       "      <td>conll00</td>\n",
       "      <td>1.55</td>\n",
       "      <td>37168</td>\n",
       "      <td>1.27</td>\n",
       "      <td>0.44</td>\n",
       "    </tr>\n",
       "    <tr>\n",
       "      <th>3</th>\n",
       "      <td>conll03</td>\n",
       "      <td>1.34</td>\n",
       "      <td>5874</td>\n",
       "      <td>2.79</td>\n",
       "      <td>1.06</td>\n",
       "    </tr>\n",
       "    <tr>\n",
       "      <th>4</th>\n",
       "      <td>ontonotes</td>\n",
       "      <td>1.62</td>\n",
       "      <td>16861</td>\n",
       "      <td>3.35</td>\n",
       "      <td>1.00</td>\n",
       "    </tr>\n",
       "    <tr>\n",
       "      <th>5</th>\n",
       "      <td>ebmnlp</td>\n",
       "      <td>3.65</td>\n",
       "      <td>21788</td>\n",
       "      <td>0.71</td>\n",
       "      <td>0.59</td>\n",
       "    </tr>\n",
       "  </tbody>\n",
       "</table>\n",
       "</div>"
      ],
      "text/plain": [
       "     dataset  length  frequency    sd    bd\n",
       "0      riqua    7.03       4026  1.65  1.16\n",
       "1       parc    7.89      16840  1.34  1.43\n",
       "2    conll00    1.55      37168  1.27  0.44\n",
       "3    conll03    1.34       5874  2.79  1.06\n",
       "4  ontonotes    1.62      16861  3.35  1.00\n",
       "5     ebmnlp    3.65      21788  0.71  0.59"
      ]
     },
     "execution_count": 3,
     "metadata": {},
     "output_type": "execute_result"
    }
   ],
   "source": [
    "df = (\n",
    "    pd.DataFrame.from_dict(\n",
    "        data, orient=\"index\", columns=[\"length\", \"frequency\", \"sd\", \"bd\"]\n",
    "    )\n",
    "    .reset_index()\n",
    "    .rename(columns={\"index\": \"dataset\"})\n",
    ")\n",
    "df"
   ]
  },
  {
   "cell_type": "code",
   "execution_count": 25,
   "id": "25c63ad1",
   "metadata": {},
   "outputs": [],
   "source": [
    "chart = alt.Chart(df).mark_circle(size=180).encode(\n",
    "    x=alt.X(\"sd\", axis=alt.Axis(titleFontSize=12, title=\"Span Distinctiveness (SD)\")),\n",
    "    y=alt.Y(\"bd\", axis=alt.Axis(titleFontSize=12, title=\"Boundary Distinctiveness (BD)\")),\n",
    "    tooltip=[\"dataset\", \"length\", \"frequency\", \"sd\", \"bd\"], \n",
    ").interactive().configure_axis(grid=False).configure(background=\"#FFFFF8\").configure_mark(color=\"#A00000\")\n",
    "chart.save(\"bd_vs_sd.html\")"
   ]
  },
  {
   "cell_type": "code",
   "execution_count": 24,
   "id": "d13836ef",
   "metadata": {},
   "outputs": [
    {
     "data": {
      "text/html": [
       "\n",
       "<div id=\"altair-viz-6b5a67364c2f4216b8b725604f773f27\"></div>\n",
       "<script type=\"text/javascript\">\n",
       "  var VEGA_DEBUG = (typeof VEGA_DEBUG == \"undefined\") ? {} : VEGA_DEBUG;\n",
       "  (function(spec, embedOpt){\n",
       "    let outputDiv = document.currentScript.previousElementSibling;\n",
       "    if (outputDiv.id !== \"altair-viz-6b5a67364c2f4216b8b725604f773f27\") {\n",
       "      outputDiv = document.getElementById(\"altair-viz-6b5a67364c2f4216b8b725604f773f27\");\n",
       "    }\n",
       "    const paths = {\n",
       "      \"vega\": \"https://cdn.jsdelivr.net/npm//vega@5?noext\",\n",
       "      \"vega-lib\": \"https://cdn.jsdelivr.net/npm//vega-lib?noext\",\n",
       "      \"vega-lite\": \"https://cdn.jsdelivr.net/npm//vega-lite@4.17.0?noext\",\n",
       "      \"vega-embed\": \"https://cdn.jsdelivr.net/npm//vega-embed@6?noext\",\n",
       "    };\n",
       "\n",
       "    function maybeLoadScript(lib, version) {\n",
       "      var key = `${lib.replace(\"-\", \"\")}_version`;\n",
       "      return (VEGA_DEBUG[key] == version) ?\n",
       "        Promise.resolve(paths[lib]) :\n",
       "        new Promise(function(resolve, reject) {\n",
       "          var s = document.createElement('script');\n",
       "          document.getElementsByTagName(\"head\")[0].appendChild(s);\n",
       "          s.async = true;\n",
       "          s.onload = () => {\n",
       "            VEGA_DEBUG[key] = version;\n",
       "            return resolve(paths[lib]);\n",
       "          };\n",
       "          s.onerror = () => reject(`Error loading script: ${paths[lib]}`);\n",
       "          s.src = paths[lib];\n",
       "        });\n",
       "    }\n",
       "\n",
       "    function showError(err) {\n",
       "      outputDiv.innerHTML = `<div class=\"error\" style=\"color:red;\">${err}</div>`;\n",
       "      throw err;\n",
       "    }\n",
       "\n",
       "    function displayChart(vegaEmbed) {\n",
       "      vegaEmbed(outputDiv, spec, embedOpt)\n",
       "        .catch(err => showError(`Javascript Error: ${err.message}<br>This usually means there's a typo in your chart specification. See the javascript console for the full traceback.`));\n",
       "    }\n",
       "\n",
       "    if(typeof define === \"function\" && define.amd) {\n",
       "      requirejs.config({paths});\n",
       "      require([\"vega-embed\"], displayChart, err => showError(`Error loading script: ${err.message}`));\n",
       "    } else {\n",
       "      maybeLoadScript(\"vega\", \"5\")\n",
       "        .then(() => maybeLoadScript(\"vega-lite\", \"4.17.0\"))\n",
       "        .then(() => maybeLoadScript(\"vega-embed\", \"6\"))\n",
       "        .catch(showError)\n",
       "        .then(() => displayChart(vegaEmbed));\n",
       "    }\n",
       "  })({\"config\": {\"view\": {\"continuousWidth\": 400, \"continuousHeight\": 300}, \"background\": \"#FFFFF8\", \"mark\": {\"color\": \"#A00000\"}}, \"data\": {\"name\": \"data-7a767b52ab927aa8f448c7d669f2b3c2\"}, \"mark\": {\"type\": \"circle\", \"size\": 180}, \"encoding\": {\"tooltip\": [{\"field\": \"dataset\", \"type\": \"nominal\"}, {\"field\": \"length\", \"type\": \"quantitative\"}, {\"field\": \"frequency\", \"type\": \"quantitative\"}, {\"field\": \"sd\", \"type\": \"quantitative\"}, {\"field\": \"bd\", \"type\": \"quantitative\"}], \"x\": {\"axis\": {\"title\": \"Span Distinctiveness (SD)\", \"titleFontSize\": 12}, \"field\": \"sd\", \"type\": \"quantitative\"}, \"y\": {\"axis\": {\"title\": \"Boundary Distinctiveness (BD)\", \"titleFontSize\": 12}, \"field\": \"bd\", \"type\": \"quantitative\"}}, \"selection\": {\"selector019\": {\"type\": \"interval\", \"bind\": \"scales\", \"encodings\": [\"x\", \"y\"]}}, \"$schema\": \"https://vega.github.io/schema/vega-lite/v4.17.0.json\", \"datasets\": {\"data-7a767b52ab927aa8f448c7d669f2b3c2\": [{\"dataset\": \"riqua\", \"length\": 7.03, \"frequency\": 4026, \"sd\": 1.65, \"bd\": 1.16}, {\"dataset\": \"parc\", \"length\": 7.89, \"frequency\": 16840, \"sd\": 1.34, \"bd\": 1.43}, {\"dataset\": \"conll00\", \"length\": 1.55, \"frequency\": 37168, \"sd\": 1.27, \"bd\": 0.44}, {\"dataset\": \"conll03\", \"length\": 1.34, \"frequency\": 5874, \"sd\": 2.79, \"bd\": 1.06}, {\"dataset\": \"ontonotes\", \"length\": 1.62, \"frequency\": 16861, \"sd\": 3.35, \"bd\": 1.0}, {\"dataset\": \"ebmnlp\", \"length\": 3.65, \"frequency\": 21788, \"sd\": 0.71, \"bd\": 0.59}]}}, {\"mode\": \"vega-lite\"});\n",
       "</script>"
      ],
      "text/plain": [
       "alt.Chart(...)"
      ]
     },
     "execution_count": 24,
     "metadata": {},
     "output_type": "execute_result"
    }
   ],
   "source": [
    "chart"
   ]
  },
  {
   "cell_type": "code",
   "execution_count": 27,
   "id": "0543d8b6",
   "metadata": {},
   "outputs": [],
   "source": [
    "chart = alt.Chart(df).mark_circle(size=180).encode(\n",
    "    x=alt.X(\"length\", axis=alt.Axis(titleFontSize=12, title=\"Span Length\")),\n",
    "    y=alt.Y(\"frequency\", axis=alt.Axis(titleFontSize=12, title=\"Span Frequency\")),\n",
    "    tooltip=[\"dataset\", \"length\", \"frequency\", \"sd\", \"bd\"]\n",
    ").interactive().configure_axis(grid=False).configure(background=\"#FFFFF8\").configure_mark(color=\"#A00000\")\n",
    "chart.save(\"length_vs_freq.html\")"
   ]
  },
  {
   "cell_type": "code",
   "execution_count": 28,
   "id": "34537c45",
   "metadata": {},
   "outputs": [
    {
     "data": {
      "text/html": [
       "\n",
       "<div id=\"altair-viz-5c9723629b074bcc92245e89c2bb1fe8\"></div>\n",
       "<script type=\"text/javascript\">\n",
       "  var VEGA_DEBUG = (typeof VEGA_DEBUG == \"undefined\") ? {} : VEGA_DEBUG;\n",
       "  (function(spec, embedOpt){\n",
       "    let outputDiv = document.currentScript.previousElementSibling;\n",
       "    if (outputDiv.id !== \"altair-viz-5c9723629b074bcc92245e89c2bb1fe8\") {\n",
       "      outputDiv = document.getElementById(\"altair-viz-5c9723629b074bcc92245e89c2bb1fe8\");\n",
       "    }\n",
       "    const paths = {\n",
       "      \"vega\": \"https://cdn.jsdelivr.net/npm//vega@5?noext\",\n",
       "      \"vega-lib\": \"https://cdn.jsdelivr.net/npm//vega-lib?noext\",\n",
       "      \"vega-lite\": \"https://cdn.jsdelivr.net/npm//vega-lite@4.17.0?noext\",\n",
       "      \"vega-embed\": \"https://cdn.jsdelivr.net/npm//vega-embed@6?noext\",\n",
       "    };\n",
       "\n",
       "    function maybeLoadScript(lib, version) {\n",
       "      var key = `${lib.replace(\"-\", \"\")}_version`;\n",
       "      return (VEGA_DEBUG[key] == version) ?\n",
       "        Promise.resolve(paths[lib]) :\n",
       "        new Promise(function(resolve, reject) {\n",
       "          var s = document.createElement('script');\n",
       "          document.getElementsByTagName(\"head\")[0].appendChild(s);\n",
       "          s.async = true;\n",
       "          s.onload = () => {\n",
       "            VEGA_DEBUG[key] = version;\n",
       "            return resolve(paths[lib]);\n",
       "          };\n",
       "          s.onerror = () => reject(`Error loading script: ${paths[lib]}`);\n",
       "          s.src = paths[lib];\n",
       "        });\n",
       "    }\n",
       "\n",
       "    function showError(err) {\n",
       "      outputDiv.innerHTML = `<div class=\"error\" style=\"color:red;\">${err}</div>`;\n",
       "      throw err;\n",
       "    }\n",
       "\n",
       "    function displayChart(vegaEmbed) {\n",
       "      vegaEmbed(outputDiv, spec, embedOpt)\n",
       "        .catch(err => showError(`Javascript Error: ${err.message}<br>This usually means there's a typo in your chart specification. See the javascript console for the full traceback.`));\n",
       "    }\n",
       "\n",
       "    if(typeof define === \"function\" && define.amd) {\n",
       "      requirejs.config({paths});\n",
       "      require([\"vega-embed\"], displayChart, err => showError(`Error loading script: ${err.message}`));\n",
       "    } else {\n",
       "      maybeLoadScript(\"vega\", \"5\")\n",
       "        .then(() => maybeLoadScript(\"vega-lite\", \"4.17.0\"))\n",
       "        .then(() => maybeLoadScript(\"vega-embed\", \"6\"))\n",
       "        .catch(showError)\n",
       "        .then(() => displayChart(vegaEmbed));\n",
       "    }\n",
       "  })({\"config\": {\"view\": {\"continuousWidth\": 400, \"continuousHeight\": 300}, \"background\": \"#FFFFF8\", \"mark\": {\"color\": \"#A00000\"}}, \"data\": {\"name\": \"data-7a767b52ab927aa8f448c7d669f2b3c2\"}, \"mark\": {\"type\": \"circle\", \"size\": 180}, \"encoding\": {\"tooltip\": [{\"field\": \"dataset\", \"type\": \"nominal\"}, {\"field\": \"length\", \"type\": \"quantitative\"}, {\"field\": \"frequency\", \"type\": \"quantitative\"}, {\"field\": \"sd\", \"type\": \"quantitative\"}, {\"field\": \"bd\", \"type\": \"quantitative\"}], \"x\": {\"axis\": {\"title\": \"Span Length\", \"titleFontSize\": 12}, \"field\": \"length\", \"type\": \"quantitative\"}, \"y\": {\"axis\": {\"title\": \"Span Frequency\", \"titleFontSize\": 12}, \"field\": \"frequency\", \"type\": \"quantitative\"}}, \"selection\": {\"selector022\": {\"type\": \"interval\", \"bind\": \"scales\", \"encodings\": [\"x\", \"y\"]}}, \"$schema\": \"https://vega.github.io/schema/vega-lite/v4.17.0.json\", \"datasets\": {\"data-7a767b52ab927aa8f448c7d669f2b3c2\": [{\"dataset\": \"riqua\", \"length\": 7.03, \"frequency\": 4026, \"sd\": 1.65, \"bd\": 1.16}, {\"dataset\": \"parc\", \"length\": 7.89, \"frequency\": 16840, \"sd\": 1.34, \"bd\": 1.43}, {\"dataset\": \"conll00\", \"length\": 1.55, \"frequency\": 37168, \"sd\": 1.27, \"bd\": 0.44}, {\"dataset\": \"conll03\", \"length\": 1.34, \"frequency\": 5874, \"sd\": 2.79, \"bd\": 1.06}, {\"dataset\": \"ontonotes\", \"length\": 1.62, \"frequency\": 16861, \"sd\": 3.35, \"bd\": 1.0}, {\"dataset\": \"ebmnlp\", \"length\": 3.65, \"frequency\": 21788, \"sd\": 0.71, \"bd\": 0.59}]}}, {\"mode\": \"vega-lite\"});\n",
       "</script>"
      ],
      "text/plain": [
       "alt.Chart(...)"
      ]
     },
     "execution_count": 28,
     "metadata": {},
     "output_type": "execute_result"
    }
   ],
   "source": [
    "chart"
   ]
  },
  {
   "cell_type": "code",
   "execution_count": 6,
   "id": "913a246f",
   "metadata": {},
   "outputs": [
    {
     "name": "stdout",
     "output_type": "stream",
     "text": [
      "| dataset   |   length |   frequency |   sd |   bd |\n",
      "|:----------|---------:|------------:|-----:|-----:|\n",
      "| riqua     |     7.03 |        4026 | 1.65 | 1.16 |\n",
      "| parc      |     7.89 |       16840 | 1.34 | 1.43 |\n",
      "| conll00   |     1.55 |       37168 | 1.27 | 0.44 |\n",
      "| conll03   |     1.34 |        5874 | 2.79 | 1.06 |\n",
      "| ontonotes |     1.62 |       16861 | 3.35 | 1    |\n",
      "| ebmnlp    |     3.65 |       21788 | 0.71 | 0.59 |\n"
     ]
    }
   ],
   "source": [
    "print(df.to_markdown(index=False))"
   ]
  },
  {
   "cell_type": "code",
   "execution_count": null,
   "id": "acc95bbb",
   "metadata": {},
   "outputs": [],
   "source": []
  }
 ],
 "metadata": {
  "kernelspec": {
   "display_name": "Python 3 (ipykernel)",
   "language": "python",
   "name": "python3"
  },
  "language_info": {
   "codemirror_mode": {
    "name": "ipython",
    "version": 3
   },
   "file_extension": ".py",
   "mimetype": "text/x-python",
   "name": "python",
   "nbconvert_exporter": "python",
   "pygments_lexer": "ipython3",
   "version": "3.8.10"
  }
 },
 "nbformat": 4,
 "nbformat_minor": 5
}
