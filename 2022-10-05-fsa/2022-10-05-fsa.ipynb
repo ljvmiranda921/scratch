{
 "cells": [
  {
   "cell_type": "markdown",
   "id": "17d4ad20",
   "metadata": {},
   "source": [
    "# Finite state automata"
   ]
  },
  {
   "cell_type": "code",
   "execution_count": 79,
   "id": "ea71483e",
   "metadata": {},
   "outputs": [],
   "source": [
    "def delta(q: str, i: str) -> str:\n",
    "    transition_table = {\n",
    "        # q, i -> q'\n",
    "        (\"q0\", \"b\"): \"q1\", \n",
    "        (\"q1\", \"a\"): \"q2\", \n",
    "        (\"q2\", \"a\"): \"q3\", \n",
    "        (\"q3\", \"a\"): \"q3\", \n",
    "        (\"q3\", \"!\"): \"q4\", \n",
    "    }\n",
    "    return transition_table.get((q, i), None)\n",
    "    "
   ]
  },
  {
   "cell_type": "code",
   "execution_count": 80,
   "id": "82c19053",
   "metadata": {},
   "outputs": [
    {
     "data": {
      "text/plain": [
       "'q1'"
      ]
     },
     "execution_count": 80,
     "metadata": {},
     "output_type": "execute_result"
    }
   ],
   "source": [
    "delta(\"q0\", \"b\")"
   ]
  },
  {
   "cell_type": "code",
   "execution_count": 81,
   "id": "ce48aa3e",
   "metadata": {},
   "outputs": [],
   "source": [
    "from typing import Callable, Union\n",
    "\n",
    "class SheeptalkFSA:\n",
    "    \"\"\"A Finite State Automaton for Sheeptalk\"\"\"\n",
    "\n",
    "    def __init__(\n",
    "        self,\n",
    "        Q: set = {\"q0\", \"q1\", \"q2\", \"q3\", \"q4\"}, \n",
    "        sigma: set = {\"a\", \"b\", \"!\"}, \n",
    "        q0: str = \"q0\", \n",
    "        F: set = {\"q4\"}, \n",
    "        delta: Callable = delta  # defined above\n",
    "    ):\n",
    "        \"\"\"Rename FSA parameters into readable variables\"\"\"\n",
    "        self.states = Q\n",
    "        self.inputs = sigma\n",
    "        self.init_state = q0\n",
    "        self.last_states = F\n",
    "        self.delta = delta\n",
    "\n",
    "    def __call__(self, q, i) -> Union[str, None]:\n",
    "        \"\"\"Run the transition table over the inputs\"\"\"\n",
    "        return self.delta(q, i)\n",
    "\n",
    "    def is_last_state(self, q) -> bool:\n",
    "        \"\"\"Check if current state is last state\"\"\"\n",
    "        return q in self.last_states\n"
   ]
  },
  {
   "cell_type": "code",
   "execution_count": 82,
   "id": "c3210b6c",
   "metadata": {},
   "outputs": [],
   "source": [
    "machine = SheeptalkFSA()"
   ]
  },
  {
   "cell_type": "code",
   "execution_count": 83,
   "id": "30b2d5d6",
   "metadata": {},
   "outputs": [
    {
     "data": {
      "text/plain": [
       "True"
      ]
     },
     "execution_count": 83,
     "metadata": {},
     "output_type": "execute_result"
    }
   ],
   "source": [
    "x.is_last_state(x(\"q3\", \"!\"))"
   ]
  },
  {
   "cell_type": "code",
   "execution_count": 86,
   "id": "457857a4",
   "metadata": {},
   "outputs": [],
   "source": [
    "def d_recognize(tape: str, machine: object) -> bool:\n",
    "    index = 0  # beginning of tape\n",
    "    current_state = machine.init_state\n",
    "\n",
    "    while True:\n",
    "        if index == len(tape):\n",
    "            if machine.is_last_state(current_state):\n",
    "                return True\n",
    "            else:\n",
    "                return False\n",
    "        elif not machine(current_state, tape[index]):\n",
    "            return False\n",
    "        else:\n",
    "            print(f\"{index} | q: {current_state}, i: {tape[index]}\")\n",
    "            current_state = machine(current_state, tape[index])\n",
    "            index += 1"
   ]
  },
  {
   "cell_type": "code",
   "execution_count": 87,
   "id": "289058ac",
   "metadata": {},
   "outputs": [
    {
     "data": {
      "text/plain": [
       "False"
      ]
     },
     "execution_count": 87,
     "metadata": {},
     "output_type": "execute_result"
    }
   ],
   "source": [
    "d_recognize(\"meow\", machine)"
   ]
  },
  {
   "cell_type": "code",
   "execution_count": 92,
   "id": "432d6a6f",
   "metadata": {},
   "outputs": [
    {
     "name": "stdout",
     "output_type": "stream",
     "text": [
      "0 | q: q0, i: b\n",
      "1 | q: q1, i: a\n",
      "2 | q: q2, i: a\n",
      "3 | q: q3, i: a\n",
      "4 | q: q3, i: a\n",
      "5 | q: q3, i: !\n"
     ]
    },
    {
     "data": {
      "text/plain": [
       "False"
      ]
     },
     "execution_count": 92,
     "metadata": {},
     "output_type": "execute_result"
    }
   ],
   "source": [
    "d_recognize(\"baaaa!!!!\", machine)"
   ]
  },
  {
   "cell_type": "code",
   "execution_count": null,
   "id": "31f44081",
   "metadata": {},
   "outputs": [],
   "source": []
  }
 ],
 "metadata": {
  "kernelspec": {
   "display_name": "Python 3 (ipykernel)",
   "language": "python",
   "name": "python3"
  },
  "language_info": {
   "codemirror_mode": {
    "name": "ipython",
    "version": 3
   },
   "file_extension": ".py",
   "mimetype": "text/x-python",
   "name": "python",
   "nbconvert_exporter": "python",
   "pygments_lexer": "ipython3",
   "version": "3.8.10"
  }
 },
 "nbformat": 4,
 "nbformat_minor": 5
}
