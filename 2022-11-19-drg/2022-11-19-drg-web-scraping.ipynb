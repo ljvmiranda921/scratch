{
 "cells": [
  {
   "cell_type": "markdown",
   "id": "0262de8e",
   "metadata": {},
   "source": [
    "# DRG Web Scraping"
   ]
  },
  {
   "cell_type": "code",
   "execution_count": 81,
   "id": "fd89bc3a",
   "metadata": {},
   "outputs": [],
   "source": [
    "from typing import List\n",
    "import datetime\n",
    "from pathlib import Path\n",
    "\n",
    "import requests\n",
    "from bs4 import BeautifulSoup\n",
    "from wasabi import msg"
   ]
  },
  {
   "cell_type": "code",
   "execution_count": 82,
   "id": "6c882463",
   "metadata": {
    "scrolled": false
   },
   "outputs": [],
   "source": [
    "def get_loadout_links(output_dir: Path, page_num: int = 950, verbose: bool = False) -> List[str]:\n",
    "    links = []\n",
    "    timestamp = datetime.datetime.now()\n",
    "    for p in range(1, page_num+1):\n",
    "        msg.text(f\"Checking page {p}...\", show=verbose)\n",
    "        url = f\"https://karl.gg/browse?sort=updated_at&direction=desc&page={p}\"\n",
    "        response = requests.get(url)\n",
    "        if response.ok:\n",
    "            soup = BeautifulSoup(response.content, \"html.parser\")\n",
    "            table = soup.find(\"table\")\n",
    "            for row in table.findAll(\"tr\"):\n",
    "                # The individual loadout links have the cursor-pointer class. \n",
    "                link = row.find_all(\"a\", attrs={\"class\": \"cursor-pointer\"})\n",
    "                if link:\n",
    "                    links.append(link[0].get(\"href\"))\n",
    "    msg.info(f\"Found {len(links)} builds (until page {page_num}) as of {timestamp}\")\n",
    "    \n",
    "    if output_dir and len(links) > 0:\n",
    "        output_dir.mkdir(parents=True, exist_ok=True)\n",
    "        output_path = output_dir / f\"loadout_links-page-{page_num}_{timestamp.isoformat()}.txt\"\n",
    "        with open(output_path, 'w') as f:\n",
    "            for link in links:\n",
    "                f.write(\"%s\\n\" % link)\n",
    "        msg.good(f\"Individual loadout links saved to {output_path}\")\n",
    "    \n",
    "    return links\n",
    "    "
   ]
  },
  {
   "cell_type": "code",
   "execution_count": 79,
   "id": "f2de39bb",
   "metadata": {},
   "outputs": [],
   "source": [
    "url = \"https://karl.gg/browse?sort=updated_at&direction=desc&page=1000\"\n",
    "response = requests.get(url)"
   ]
  },
  {
   "cell_type": "code",
   "execution_count": 77,
   "id": "afbb7b26",
   "metadata": {},
   "outputs": [
    {
     "name": "stdout",
     "output_type": "stream",
     "text": [
      "Checking page 1...\n",
      "Checking page 2...\n",
      "Checking page 3...\n",
      "\u001b[38;5;4mℹ Found 45 builds (until page 3) as of 2022-11-19 13:51:52.715802\u001b[0m\n",
      "\u001b[38;5;2m✔ Individual loadout links saved to\n",
      "/home/lj/Dev/scratch/2022-11-19-drg/dump/loadout_links-page-3_2022-11-19T13:51:52.715802.txt\u001b[0m\n"
     ]
    }
   ],
   "source": [
    "x = get_loadout_links(Path.cwd() / \"dump\", , verbose=True)"
   ]
  }
 ],
 "metadata": {
  "kernelspec": {
   "display_name": "Python 3 (ipykernel)",
   "language": "python",
   "name": "python3"
  },
  "language_info": {
   "codemirror_mode": {
    "name": "ipython",
    "version": 3
   },
   "file_extension": ".py",
   "mimetype": "text/x-python",
   "name": "python",
   "nbconvert_exporter": "python",
   "pygments_lexer": "ipython3",
   "version": "3.8.10"
  }
 },
 "nbformat": 4,
 "nbformat_minor": 5
}
