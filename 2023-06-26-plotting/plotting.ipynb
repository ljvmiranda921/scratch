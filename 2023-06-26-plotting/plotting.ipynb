{
 "cells": [
  {
   "cell_type": "code",
   "execution_count": 2,
   "metadata": {},
   "outputs": [],
   "source": [
    "import pandas as pd\n",
    "import altair as alt"
   ]
  },
  {
   "cell_type": "code",
   "execution_count": 3,
   "metadata": {},
   "outputs": [
    {
     "data": {
      "text/plain": [
       "ThemeRegistry.enable('computer_modern')"
      ]
     },
     "execution_count": 3,
     "metadata": {},
     "output_type": "execute_result"
    }
   ],
   "source": [
    "def computer_modern():\n",
    "    font = \"CMU Sans Serif\"\n",
    "    \n",
    "    return {\n",
    "        \"config\" : {\n",
    "             \"title\": {'font': font},\n",
    "             \"axis\": {\n",
    "                  \"labelFont\": font,\n",
    "                  \"titleFont\": font\n",
    "             },\n",
    "            \"mark\": {\n",
    "                    \"font\": font,\n",
    "            }\n",
    "        }\n",
    "    }\n",
    "\n",
    "alt.themes.register('computer_modern', computer_modern)\n",
    "alt.themes.enable('computer_modern')"
   ]
  },
  {
   "cell_type": "code",
   "execution_count": 4,
   "metadata": {},
   "outputs": [],
   "source": [
    "df = pd.DataFrame().from_dict(\n",
    "    data={\n",
    "        \"num_samples\": [500, 1024, 2113, 3410, 4096, 6000],\n",
    "        \"Cohen's κ (all tokens)\": [0.42, 0.46, 0.63, 0.70, 0.77, 0.84],\n",
    "        \"Cohen's κ (annotated)\": [0.25, 0.29, 0.42, 0.53, 0.60, 0.67],\n",
    "        \"F1-score\": [0.64, 0.68, 0.80, 0.89, 0.92, 0.96],\n",
    "    }\n",
    ")"
   ]
  },
  {
   "cell_type": "code",
   "execution_count": 6,
   "metadata": {},
   "outputs": [
    {
     "data": {
      "text/html": [
       "\n",
       "<div id=\"altair-viz-39e91b6ac76a4d2cbf9c4d7bcfda4bf6\"></div>\n",
       "<script type=\"text/javascript\">\n",
       "  var VEGA_DEBUG = (typeof VEGA_DEBUG == \"undefined\") ? {} : VEGA_DEBUG;\n",
       "  (function(spec, embedOpt){\n",
       "    let outputDiv = document.currentScript.previousElementSibling;\n",
       "    if (outputDiv.id !== \"altair-viz-39e91b6ac76a4d2cbf9c4d7bcfda4bf6\") {\n",
       "      outputDiv = document.getElementById(\"altair-viz-39e91b6ac76a4d2cbf9c4d7bcfda4bf6\");\n",
       "    }\n",
       "    const paths = {\n",
       "      \"vega\": \"https://cdn.jsdelivr.net/npm//vega@5?noext\",\n",
       "      \"vega-lib\": \"https://cdn.jsdelivr.net/npm//vega-lib?noext\",\n",
       "      \"vega-lite\": \"https://cdn.jsdelivr.net/npm//vega-lite@4.17.0?noext\",\n",
       "      \"vega-embed\": \"https://cdn.jsdelivr.net/npm//vega-embed@6?noext\",\n",
       "    };\n",
       "\n",
       "    function maybeLoadScript(lib, version) {\n",
       "      var key = `${lib.replace(\"-\", \"\")}_version`;\n",
       "      return (VEGA_DEBUG[key] == version) ?\n",
       "        Promise.resolve(paths[lib]) :\n",
       "        new Promise(function(resolve, reject) {\n",
       "          var s = document.createElement('script');\n",
       "          document.getElementsByTagName(\"head\")[0].appendChild(s);\n",
       "          s.async = true;\n",
       "          s.onload = () => {\n",
       "            VEGA_DEBUG[key] = version;\n",
       "            return resolve(paths[lib]);\n",
       "          };\n",
       "          s.onerror = () => reject(`Error loading script: ${paths[lib]}`);\n",
       "          s.src = paths[lib];\n",
       "        });\n",
       "    }\n",
       "\n",
       "    function showError(err) {\n",
       "      outputDiv.innerHTML = `<div class=\"error\" style=\"color:red;\">${err}</div>`;\n",
       "      throw err;\n",
       "    }\n",
       "\n",
       "    function displayChart(vegaEmbed) {\n",
       "      vegaEmbed(outputDiv, spec, embedOpt)\n",
       "        .catch(err => showError(`Javascript Error: ${err.message}<br>This usually means there's a typo in your chart specification. See the javascript console for the full traceback.`));\n",
       "    }\n",
       "\n",
       "    if(typeof define === \"function\" && define.amd) {\n",
       "      requirejs.config({paths});\n",
       "      require([\"vega-embed\"], displayChart, err => showError(`Error loading script: ${err.message}`));\n",
       "    } else {\n",
       "      maybeLoadScript(\"vega\", \"5\")\n",
       "        .then(() => maybeLoadScript(\"vega-lite\", \"4.17.0\"))\n",
       "        .then(() => maybeLoadScript(\"vega-embed\", \"6\"))\n",
       "        .catch(showError)\n",
       "        .then(() => displayChart(vegaEmbed));\n",
       "    }\n",
       "  })({\"config\": {\"title\": {\"font\": \"CMU Sans Serif\", \"fontSize\": 20}, \"axis\": {\"labelFont\": \"CMU Sans Serif\", \"titleFont\": \"CMU Sans Serif\", \"grid\": false, \"labelFontSize\": 14, \"titleFontSize\": 18}, \"mark\": {\"font\": \"CMU Sans Serif\", \"color\": \"#a00000\"}, \"background\": \"#fffff8\", \"text\": {\"font\": \"Lato\"}, \"view\": {\"stroke\": null}}, \"data\": {\"name\": \"data-a5d884c15daf16774210ef72b6e09acc\"}, \"mark\": {\"type\": \"line\", \"color\": \"#a00000\", \"point\": true}, \"encoding\": {\"strokeDash\": {\"field\": \"variable\", \"legend\": {\"labelFontSize\": 14, \"legendX\": 440, \"legendY\": 310, \"orient\": \"none\", \"title\": \"Metrics\", \"titleFontSize\": 14}, \"type\": \"nominal\"}, \"x\": {\"field\": \"num_samples\", \"title\": \"Number of examples (cumulative)\", \"type\": \"quantitative\"}, \"y\": {\"field\": \"value\", \"title\": \"Inter-annotator agreement\", \"type\": \"quantitative\"}}, \"height\": 400, \"title\": \"Inter-annotator agreement (IAA) grew after each annotation round\", \"width\": 600, \"$schema\": \"https://vega.github.io/schema/vega-lite/v4.17.0.json\", \"datasets\": {\"data-a5d884c15daf16774210ef72b6e09acc\": [{\"num_samples\": 500, \"variable\": \"Cohen's \\u03ba (all tokens)\", \"value\": 0.42}, {\"num_samples\": 1024, \"variable\": \"Cohen's \\u03ba (all tokens)\", \"value\": 0.46}, {\"num_samples\": 2113, \"variable\": \"Cohen's \\u03ba (all tokens)\", \"value\": 0.63}, {\"num_samples\": 3410, \"variable\": \"Cohen's \\u03ba (all tokens)\", \"value\": 0.7}, {\"num_samples\": 4096, \"variable\": \"Cohen's \\u03ba (all tokens)\", \"value\": 0.77}, {\"num_samples\": 6000, \"variable\": \"Cohen's \\u03ba (all tokens)\", \"value\": 0.84}, {\"num_samples\": 500, \"variable\": \"Cohen's \\u03ba (annotated)\", \"value\": 0.25}, {\"num_samples\": 1024, \"variable\": \"Cohen's \\u03ba (annotated)\", \"value\": 0.29}, {\"num_samples\": 2113, \"variable\": \"Cohen's \\u03ba (annotated)\", \"value\": 0.42}, {\"num_samples\": 3410, \"variable\": \"Cohen's \\u03ba (annotated)\", \"value\": 0.53}, {\"num_samples\": 4096, \"variable\": \"Cohen's \\u03ba (annotated)\", \"value\": 0.6}, {\"num_samples\": 6000, \"variable\": \"Cohen's \\u03ba (annotated)\", \"value\": 0.67}, {\"num_samples\": 500, \"variable\": \"F1-score\", \"value\": 0.64}, {\"num_samples\": 1024, \"variable\": \"F1-score\", \"value\": 0.68}, {\"num_samples\": 2113, \"variable\": \"F1-score\", \"value\": 0.8}, {\"num_samples\": 3410, \"variable\": \"F1-score\", \"value\": 0.89}, {\"num_samples\": 4096, \"variable\": \"F1-score\", \"value\": 0.92}, {\"num_samples\": 6000, \"variable\": \"F1-score\", \"value\": 0.96}]}}, {\"mode\": \"vega-lite\"});\n",
       "</script>"
      ],
      "text/plain": [
       "alt.Chart(...)"
      ]
     },
     "execution_count": 6,
     "metadata": {},
     "output_type": "execute_result"
    }
   ],
   "source": [
    "df_melt = df.reset_index(drop=True).melt(\"num_samples\")\n",
    "line = (\n",
    "    alt.Chart(df_melt)\n",
    "    .mark_line(color=\"#a00000\", point=True)\n",
    "    .encode(\n",
    "        x=alt.X(\"num_samples\", title=\"Number of examples (cumulative)\"), \n",
    "        y=alt.Y(\"value\", title=\"Inter-annotator agreement\"), \n",
    "        strokeDash=alt.Color(\"variable\",\n",
    "                        legend=alt.Legend(\n",
    "                            title=\"Metrics\", \n",
    "                            labelFontSize=14,\n",
    "                            titleFontSize=14,\n",
    "                            orient=\"none\",\n",
    "                            legendX=440,\n",
    "                            legendY=310,\n",
    "                            )\n",
    "                        )\n",
    "    )\n",
    ")\n",
    "chart = (\n",
    "    line\n",
    "    .properties(height=400, width=600, title=\"Inter-annotator agreement (IAA) grew after each annotation round\")\n",
    "    .configure(background=\"#fffff8\")\n",
    "    .configure_axis(labelFontSize=14, titleFontSize=18, grid=False)\n",
    "    .configure_view(stroke=None)\n",
    "    .configure_text(font=\"Lato\")\n",
    "    .configure_title(fontSize=20)\n",
    "    .configure_mark(color=\"#a00000\")  \n",
    ")\n",
    "chart\n"
   ]
  },
  {
   "cell_type": "code",
   "execution_count": null,
   "metadata": {},
   "outputs": [],
   "source": []
  }
 ],
 "metadata": {
  "kernelspec": {
   "display_name": "Python 3",
   "language": "python",
   "name": "python3"
  },
  "language_info": {
   "codemirror_mode": {
    "name": "ipython",
    "version": 3
   },
   "file_extension": ".py",
   "mimetype": "text/x-python",
   "name": "python",
   "nbconvert_exporter": "python",
   "pygments_lexer": "ipython3",
   "version": "3.8.10"
  },
  "orig_nbformat": 4
 },
 "nbformat": 4,
 "nbformat_minor": 2
}
