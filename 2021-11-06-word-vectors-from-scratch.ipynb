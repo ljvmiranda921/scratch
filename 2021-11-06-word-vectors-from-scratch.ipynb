{
 "cells": [
  {
   "cell_type": "markdown",
   "id": "5dd6bb89",
   "metadata": {},
   "source": [
    "# Word vectors from scratch\n",
    "- read the text\n",
    "- preprocess the text\n",
    "- create data points\n",
    "- create one-hot encoded matrices\n",
    "- train neural network\n",
    "- extract weights from the input layer"
   ]
  },
  {
   "cell_type": "code",
   "execution_count": 1,
   "id": "9be3298f",
   "metadata": {},
   "outputs": [],
   "source": [
    "sentences = [\n",
    "    \"A dog is an example of a canine\",\n",
    "    \"A cat is an example of a feline\",\n",
    "    \"A gecko can be a pet.\",\n",
    "    \"A cat is a warm-blooded feline.\",\n",
    "    \"A gecko is a cold-blooded reptile.\",\n",
    "    \"A dog is a warm-blooded mammal.\",\n",
    "    \"A gecko is an example of a reptile.\",\n",
    "    \"A mammal is warm-blooded.\",\n",
    "    \"A reptile is cold-blooded.\",\n",
    "    \"A cat is a mammal.\",\n",
    "]"
   ]
  },
  {
   "cell_type": "code",
   "execution_count": 2,
   "id": "bb85bec0",
   "metadata": {},
   "outputs": [],
   "source": [
    "import re\n",
    "from typing import List, Tuple\n",
    "\n",
    "\n",
    "def clean_text(\n",
    "    text: str,\n",
    "    punctuations: str = r\"\"\"!()-[]{};:'\"\\,<>./?@#$%^&*_~\"\"\",\n",
    "    stop_words: List = [\"the\", \"a\", \"an\", \"and\", \"is\", \"are\", \"in\", \"be\", \"can\", \"I\", \"have\", \"of\", \"example\", \"so\", \"both\"],\n",
    ") -> str:\n",
    "    # Removing the punctuations\n",
    "    for x in text.lower():\n",
    "        if x in punctuations:\n",
    "            text = text.replace(x, \"\")\n",
    "\n",
    "    text = text.lower()\n",
    "    text = \" \".join([word for word in text.split() if word not in stop_words])\n",
    "    text = re.sub(r\"\\s+\", \" \", text).strip()\n",
    "\n",
    "    return text"
   ]
  },
  {
   "cell_type": "code",
   "execution_count": 3,
   "id": "aa419b50",
   "metadata": {},
   "outputs": [],
   "source": [
    "def create_word_pairs(text: List[str], window: int = 2) -> List[List[str]]:\n",
    "    word_pairs = []\n",
    "    for idx, word in enumerate(text):\n",
    "        for w in range(window):\n",
    "            if idx + 1 + w < len(text):\n",
    "                pair = tuple([word] + [text[idx + 1 + w]])\n",
    "                word_pairs.append(pair)\n",
    "            if idx - w - 1 >= 0:\n",
    "                pair = tuple([word] + [text[idx - w - 1]])\n",
    "                word_pairs.append(pair)    \n",
    "    return word_pairs"
   ]
  },
  {
   "cell_type": "markdown",
   "id": "af422b36",
   "metadata": {},
   "source": [
    "Let's then get the unique words for each and store them:"
   ]
  },
  {
   "cell_type": "code",
   "execution_count": 4,
   "id": "dc6f8c76",
   "metadata": {},
   "outputs": [],
   "source": [
    "all_text = [clean_text(sentence).split() for sentence in sentences]\n",
    "unique_words = sorted(set([word for text in all_text for word in text]))"
   ]
  },
  {
   "cell_type": "code",
   "execution_count": 5,
   "id": "b6ab87a9",
   "metadata": {},
   "outputs": [
    {
     "data": {
      "text/plain": [
       "[['dog', 'canine'],\n",
       " ['cat', 'feline'],\n",
       " ['gecko', 'pet'],\n",
       " ['cat', 'warmblooded', 'feline'],\n",
       " ['gecko', 'coldblooded', 'reptile'],\n",
       " ['dog', 'warmblooded', 'mammal'],\n",
       " ['gecko', 'reptile'],\n",
       " ['mammal', 'warmblooded'],\n",
       " ['reptile', 'coldblooded'],\n",
       " ['cat', 'mammal']]"
      ]
     },
     "execution_count": 5,
     "metadata": {},
     "output_type": "execute_result"
    }
   ],
   "source": [
    "all_text"
   ]
  },
  {
   "cell_type": "markdown",
   "id": "3875dc39",
   "metadata": {},
   "source": [
    "Let's create one-hot encoded vectors for each word"
   ]
  },
  {
   "cell_type": "code",
   "execution_count": 6,
   "id": "01718440",
   "metadata": {},
   "outputs": [],
   "source": [
    "def one_hot_encode(pairs: List[Tuple[str, str]], vocab: List[str]):\n",
    "    n_words = len(vocab)\n",
    "    \n",
    "    # Create X and Y matrices\n",
    "    X = []\n",
    "    Y = []\n",
    "    \n",
    "    \n",
    "    for pair in pairs:\n",
    "        \n",
    "        # Get main and context words\n",
    "        main, ctx = pair  \n",
    "        main_idx = vocab.index(main)\n",
    "        ctx_idx = vocab.index(ctx)\n",
    "        \n",
    "        # Perform one-hot encoding\n",
    "        x_row = [0] * n_words\n",
    "        x_row[main_idx] = 1 \n",
    "        X.append(x_row)\n",
    "        y_row = [0] * n_words\n",
    "        y_row[ctx_idx] = 1\n",
    "        Y.append(y_row)\n",
    "        \n",
    "    return X, Y"
   ]
  },
  {
   "cell_type": "code",
   "execution_count": 7,
   "id": "a68b3090",
   "metadata": {},
   "outputs": [],
   "source": [
    "all_word_pairs = []\n",
    "for text in all_text:\n",
    "    all_word_pairs += create_word_pairs(text)\n",
    "#word_pairs = [create_word_pairs(text) for text in all_text]"
   ]
  },
  {
   "cell_type": "code",
   "execution_count": 8,
   "id": "1fb27ba7",
   "metadata": {},
   "outputs": [],
   "source": [
    "X, y = one_hot_encode(pairs=all_word_pairs, vocab=unique_words)"
   ]
  },
  {
   "cell_type": "markdown",
   "id": "93642086",
   "metadata": {},
   "source": [
    "Define our model"
   ]
  },
  {
   "cell_type": "code",
   "execution_count": 9,
   "id": "97a7a51d",
   "metadata": {},
   "outputs": [
    {
     "data": {
      "text/plain": [
       "<torch._C.Generator at 0x7fddd8042a70>"
      ]
     },
     "execution_count": 9,
     "metadata": {},
     "output_type": "execute_result"
    }
   ],
   "source": [
    "import torch\n",
    "import torch.optim as optim\n",
    "from torch import nn\n",
    "torch.manual_seed(21)"
   ]
  },
  {
   "cell_type": "code",
   "execution_count": 10,
   "id": "d86115dc",
   "metadata": {},
   "outputs": [],
   "source": [
    "input_dim, hidden_dim, output_dim = len(X[0]), 2, len(y[0])\n",
    "model = nn.Sequential(\n",
    "    nn.Linear(input_dim, hidden_dim),\n",
    "    nn.Linear(hidden_dim, output_dim),\n",
    ")\n",
    "\n",
    "loss_fn = torch.nn.CrossEntropyLoss()\n",
    "optimizer = optim.Adam(model.parameters(), lr=1e-4)\n",
    "\n",
    "# Convert our inputs and outputs into tensors\n",
    "X_t = torch.FloatTensor(X)\n",
    "y_t = torch.FloatTensor(y)"
   ]
  },
  {
   "cell_type": "markdown",
   "id": "f3bb3cc9",
   "metadata": {},
   "source": [
    "Train the model"
   ]
  },
  {
   "cell_type": "code",
   "execution_count": 11,
   "id": "2ccca397",
   "metadata": {},
   "outputs": [
    {
     "name": "stdout",
     "output_type": "stream",
     "text": [
      "99 2.347440004348755\n",
      "1099 2.239278793334961\n",
      "2099 2.130718469619751\n",
      "3099 2.0155701637268066\n",
      "4099 1.8986749649047852\n",
      "5099 1.7920109033584595\n",
      "6099 1.7015403509140015\n",
      "7099 1.6277786493301392\n",
      "8099 1.5648181438446045\n",
      "9099 1.5043113231658936\n"
     ]
    }
   ],
   "source": [
    "for t in range(int(10e3)):\n",
    "    # Compute forward pass and print loss\n",
    "    y_pred = model(X_t)\n",
    "    loss = loss_fn(y_pred, torch.argmax(y_t, dim=1))  # doesn't take one-hot encoded\n",
    "    \n",
    "    if t % 1000 == 99:\n",
    "        print(t, loss.item())\n",
    "    \n",
    "    # Zero the gradients before running the backward pass\n",
    "    optimizer.zero_grad()\n",
    "    \n",
    "    # Backpropagation\n",
    "    loss.backward()\n",
    "    \n",
    "    # Update weights using gradient descent\n",
    "    optimizer.step()"
   ]
  },
  {
   "cell_type": "code",
   "execution_count": 12,
   "id": "0480c25d",
   "metadata": {},
   "outputs": [],
   "source": [
    "name, weights = list(model.named_parameters())[0]"
   ]
  },
  {
   "cell_type": "code",
   "execution_count": 13,
   "id": "fb502a8b",
   "metadata": {},
   "outputs": [],
   "source": [
    "w = weights.data.tolist()"
   ]
  },
  {
   "cell_type": "code",
   "execution_count": 14,
   "id": "b0cb29eb",
   "metadata": {},
   "outputs": [],
   "source": [
    "# Create embedding dict\n",
    "\n",
    "embedding_dict = {}\n",
    "for idx, word in enumerate(unique_words):\n",
    "    embedding_dict[word] = (w[0][idx], w[1][idx])"
   ]
  },
  {
   "cell_type": "code",
   "execution_count": 15,
   "id": "c0e46624",
   "metadata": {},
   "outputs": [
    {
     "data": {
      "text/plain": [
       "{'canine': (0.9686978459358215, 1.272706151008606),\n",
       " 'cat': (0.8475805521011353, 0.20651397109031677),\n",
       " 'coldblooded': (-1.4209543466567993, -0.9538927674293518),\n",
       " 'dog': (0.15635372698307037, 0.5357027649879456),\n",
       " 'feline': (-0.677571713924408, 1.3015227317810059),\n",
       " 'gecko': (-1.021803379058838, -0.8113305568695068),\n",
       " 'mammal': (0.37235257029533386, 1.2136141061782837),\n",
       " 'pet': (-0.9806401133537292, -1.261562705039978),\n",
       " 'reptile': (-0.5371686220169067, -1.061165452003479),\n",
       " 'warmblooded': (1.1654094457626343, 0.20232778787612915)}"
      ]
     },
     "execution_count": 15,
     "metadata": {},
     "output_type": "execute_result"
    }
   ],
   "source": [
    "embedding_dict"
   ]
  },
  {
   "cell_type": "code",
   "execution_count": 16,
   "id": "88c1c153",
   "metadata": {},
   "outputs": [
    {
     "data": {
      "image/png": "[encoded data removed]",
      "text/plain": [
       "<Figure size 720x720 with 1 Axes>"
      ]
     },
     "metadata": {
      "needs_background": "light"
     },
     "output_type": "display_data"
    }
   ],
   "source": [
    "import matplotlib.pyplot as plt\n",
    "plt.figure(figsize=(10, 10))\n",
    "\n",
    "for word in unique_words:\n",
    "    coord = embedding_dict[word]\n",
    "    plt.scatter(coord[0], coord[1])\n",
    "    plt.annotate(word, coord)"
   ]
  }
 ],
 "metadata": {
  "kernelspec": {
   "display_name": "Python 3 (ipykernel)",
   "language": "python",
   "name": "python3"
  },
  "language_info": {
   "codemirror_mode": {
    "name": "ipython",
    "version": 3
   },
   "file_extension": ".py",
   "mimetype": "text/x-python",
   "name": "python",
   "nbconvert_exporter": "python",
   "pygments_lexer": "ipython3",
   "version": "3.8.10"
  }
 },
 "nbformat": 4,
 "nbformat_minor": 5
}
