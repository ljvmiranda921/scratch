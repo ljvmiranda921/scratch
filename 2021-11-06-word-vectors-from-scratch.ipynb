{
 "cells": [
  {
   "cell_type": "markdown",
   "id": "5dd6bb89",
   "metadata": {},
   "source": [
    "# Word vectors from scratch\n",
    "- read the text\n",
    "- preprocess the text\n",
    "- create data points\n",
    "- create one-hot encoded matrices\n",
    "- train neural network\n",
    "- extract weights from the input layer"
   ]
  },
  {
   "cell_type": "code",
   "execution_count": 38,
   "id": "9be3298f",
   "metadata": {},
   "outputs": [],
   "source": [
    "sentences = [\n",
    "    \"Dogs and cats are pets.\",\n",
    "    \"Dogs are canine.\",\n",
    "    \"Cats are feline.\",\n",
    "    \"A dog is a man's best friend.\",\n",
    "    \"A gecko can be a pet.\",\n",
    "    \"Cats are such fickle creatures.\",\n",
    "    \"A gecko is a reptile.\",\n",
    "    \"Dogs and wolves are distant cousins.\",\n",
    "    \"Dogs and cats can be found in a house.\",\n",
    "    \"Wolves are wild.\"\n",
    "    \"Dogs, cats, and wolves are mammals.\",\n",
    "    \"Mammals are warm-blooded.\",\n",
    "    \"A wolf is a mammal.\",\n",
    "    \"A gecko is a lizard.\",\n",
    "    \"A lizard is cold-blooded.\",\n",
    "    \"Reptiles are cold-blooded.\",\n",
    "    \"Wolves are found in the forest.\",\n",
    "    \"The gecko lives in a house.\",\n",
    "    \"Wolves are canine.\",\n",
    "    \"Dogs and wolves are canine.\"\n",
    "    \"A cat is a mammal.\",\n",
    "]"
   ]
  },
  {
   "cell_type": "code",
   "execution_count": 55,
   "id": "1522a4c3",
   "metadata": {},
   "outputs": [],
   "source": [
    "sentences = [\n",
    "\"The future king is the prince\",\n",
    "\"Daughter is the princess\",\n",
    "\"Son is the prince\",\n",
    "\"Only a man can be a king\",\n",
    "\"Only a woman can be a queen\",\n",
    "\"The princess will be a queen\",\n",
    "\"Queen and king rule the realm\",\n",
    "\"The prince is a strong man\",\n",
    "\"The princess is a beautiful woman\",\n",
    "\"The royal family is the king and queen and their children\",\n",
    "\"Prince is only a boy now\",\n",
    "\"A boy will be a man\",\n",
    "]"
   ]
  },
  {
   "cell_type": "code",
   "execution_count": 56,
   "id": "bb85bec0",
   "metadata": {},
   "outputs": [],
   "source": [
    "import re\n",
    "from typing import List, Tuple\n",
    "\n",
    "\n",
    "def clean_text(\n",
    "    text: str,\n",
    "    punctuations: str = r\"\"\"!()-[]{};:'\"\\,<>./?@#$%^&*_~\"\"\",\n",
    "    stop_words: List = [\"the\", \"a\", \"and\", \"is\", \"are\", \"in\", \"be\", \"can\"],\n",
    ") -> str:\n",
    "    # Removing the punctuations\n",
    "    for x in text.lower():\n",
    "        if x in punctuations:\n",
    "            text = text.replace(x, \"\")\n",
    "\n",
    "    text = text.lower()\n",
    "    text = \" \".join([word for word in text.split() if word not in stop_words])\n",
    "    text = re.sub(r\"\\s+\", \" \", text).strip()\n",
    "\n",
    "    return text"
   ]
  },
  {
   "cell_type": "code",
   "execution_count": 57,
   "id": "aa419b50",
   "metadata": {},
   "outputs": [],
   "source": [
    "def create_word_pairs(text: List[str], window: int = 2) -> List[List[str]]:\n",
    "    word_pairs = []\n",
    "    for idx, word in enumerate(text):\n",
    "        for w in range(window):\n",
    "            if idx + 1 + w < len(text):\n",
    "                pair = tuple([word] + [text[idx + 1 + w]])\n",
    "                word_pairs.append(pair)\n",
    "            if idx - w - 1 >= 0:\n",
    "                pair = tuple([word] + [text[idx - w - 1]])\n",
    "                word_pairs.append(pair)    \n",
    "    return word_pairs"
   ]
  },
  {
   "cell_type": "markdown",
   "id": "af422b36",
   "metadata": {},
   "source": [
    "Let's then get the unique words for each and store them:"
   ]
  },
  {
   "cell_type": "code",
   "execution_count": 58,
   "id": "dc6f8c76",
   "metadata": {},
   "outputs": [],
   "source": [
    "all_text = [clean_text(sentence).split() for sentence in sentences]\n",
    "unique_words = sorted(set([word for text in all_text for word in text]))"
   ]
  },
  {
   "cell_type": "markdown",
   "id": "3875dc39",
   "metadata": {},
   "source": [
    "Let's create one-hot encoded vectors for each word"
   ]
  },
  {
   "cell_type": "code",
   "execution_count": 59,
   "id": "01718440",
   "metadata": {},
   "outputs": [],
   "source": [
    "def one_hot_encode(pairs: List[Tuple[str, str]], vocab: List[str]):\n",
    "    n_words = len(vocab)\n",
    "    \n",
    "    # Create X and Y matrices\n",
    "    X = []\n",
    "    Y = []\n",
    "    \n",
    "    \n",
    "    for pair in pairs:\n",
    "        \n",
    "        # Get main and context words\n",
    "        main, ctx = pair  \n",
    "        main_idx = vocab.index(main)\n",
    "        ctx_idx = vocab.index(ctx)\n",
    "        \n",
    "        # Perform one-hot encoding\n",
    "        x_row = [0] * n_words\n",
    "        x_row[main_idx] = 1 \n",
    "        X.append(x_row)\n",
    "        y_row = [0] * n_words\n",
    "        y_row[ctx_idx] = 1\n",
    "        Y.append(y_row)\n",
    "        \n",
    "    return X, Y"
   ]
  },
  {
   "cell_type": "code",
   "execution_count": 60,
   "id": "a68b3090",
   "metadata": {},
   "outputs": [],
   "source": [
    "all_word_pairs = []\n",
    "for text in all_text:\n",
    "    all_word_pairs += create_word_pairs(text)\n",
    "#word_pairs = [create_word_pairs(text) for text in all_text]"
   ]
  },
  {
   "cell_type": "code",
   "execution_count": 61,
   "id": "a47a19df",
   "metadata": {},
   "outputs": [
    {
     "data": {
      "text/plain": [
       "[('future', 'king'),\n",
       " ('future', 'prince'),\n",
       " ('king', 'prince'),\n",
       " ('king', 'future'),\n",
       " ('prince', 'king'),\n",
       " ('prince', 'future'),\n",
       " ('daughter', 'princess'),\n",
       " ('princess', 'daughter'),\n",
       " ('son', 'prince'),\n",
       " ('prince', 'son'),\n",
       " ('only', 'man'),\n",
       " ('only', 'king'),\n",
       " ('man', 'king'),\n",
       " ('man', 'only'),\n",
       " ('king', 'man'),\n",
       " ('king', 'only'),\n",
       " ('only', 'woman'),\n",
       " ('only', 'queen'),\n",
       " ('woman', 'queen'),\n",
       " ('woman', 'only'),\n",
       " ('queen', 'woman'),\n",
       " ('queen', 'only'),\n",
       " ('princess', 'will'),\n",
       " ('princess', 'queen'),\n",
       " ('will', 'queen'),\n",
       " ('will', 'princess'),\n",
       " ('queen', 'will'),\n",
       " ('queen', 'princess'),\n",
       " ('queen', 'king'),\n",
       " ('queen', 'rule'),\n",
       " ('king', 'rule'),\n",
       " ('king', 'queen'),\n",
       " ('king', 'realm'),\n",
       " ('rule', 'realm'),\n",
       " ('rule', 'king'),\n",
       " ('rule', 'queen'),\n",
       " ('realm', 'rule'),\n",
       " ('realm', 'king'),\n",
       " ('prince', 'strong'),\n",
       " ('prince', 'man'),\n",
       " ('strong', 'man'),\n",
       " ('strong', 'prince'),\n",
       " ('man', 'strong'),\n",
       " ('man', 'prince'),\n",
       " ('princess', 'beautiful'),\n",
       " ('princess', 'woman'),\n",
       " ('beautiful', 'woman'),\n",
       " ('beautiful', 'princess'),\n",
       " ('woman', 'beautiful'),\n",
       " ('woman', 'princess'),\n",
       " ('royal', 'family'),\n",
       " ('royal', 'king'),\n",
       " ('family', 'king'),\n",
       " ('family', 'royal'),\n",
       " ('family', 'queen'),\n",
       " ('king', 'queen'),\n",
       " ('king', 'family'),\n",
       " ('king', 'their'),\n",
       " ('king', 'royal'),\n",
       " ('queen', 'their'),\n",
       " ('queen', 'king'),\n",
       " ('queen', 'children'),\n",
       " ('queen', 'family'),\n",
       " ('their', 'children'),\n",
       " ('their', 'queen'),\n",
       " ('their', 'king'),\n",
       " ('children', 'their'),\n",
       " ('children', 'queen'),\n",
       " ('prince', 'only'),\n",
       " ('prince', 'boy'),\n",
       " ('only', 'boy'),\n",
       " ('only', 'prince'),\n",
       " ('only', 'now'),\n",
       " ('boy', 'now'),\n",
       " ('boy', 'only'),\n",
       " ('boy', 'prince'),\n",
       " ('now', 'boy'),\n",
       " ('now', 'only'),\n",
       " ('boy', 'will'),\n",
       " ('boy', 'man'),\n",
       " ('will', 'man'),\n",
       " ('will', 'boy'),\n",
       " ('man', 'will'),\n",
       " ('man', 'boy')]"
      ]
     },
     "execution_count": 61,
     "metadata": {},
     "output_type": "execute_result"
    }
   ],
   "source": [
    "all_word_pairs"
   ]
  },
  {
   "cell_type": "code",
   "execution_count": 62,
   "id": "5fe23450",
   "metadata": {},
   "outputs": [],
   "source": [
    "X, y = one_hot_encode(pairs=all_word_pairs, vocab=unique_words)"
   ]
  },
  {
   "cell_type": "markdown",
   "id": "fab5155a",
   "metadata": {},
   "source": [
    "Define our model"
   ]
  },
  {
   "cell_type": "code",
   "execution_count": 63,
   "id": "8f589602",
   "metadata": {},
   "outputs": [],
   "source": [
    "import torch\n",
    "import torch.optim as optim\n",
    "from torch import nn"
   ]
  },
  {
   "cell_type": "code",
   "execution_count": 64,
   "id": "8a6a49c1",
   "metadata": {},
   "outputs": [],
   "source": [
    "input_dim, hidden_dim, output_dim = len(X[0]), 2, len(y[0])\n",
    "model = nn.Sequential(\n",
    "    nn.Linear(input_dim, hidden_dim),\n",
    "    nn.Linear(hidden_dim, output_dim),\n",
    ")\n",
    "\n",
    "loss_fn = torch.nn.CrossEntropyLoss()\n",
    "optimizer = optim.Adam(model.parameters(), lr=1e-4)\n",
    "\n",
    "# Convert our inputs and outputs into tensors\n",
    "X_t = torch.FloatTensor(X)\n",
    "y_t = torch.FloatTensor(y)"
   ]
  },
  {
   "cell_type": "markdown",
   "id": "1705c878",
   "metadata": {},
   "source": [
    "Train the model"
   ]
  },
  {
   "cell_type": "code",
   "execution_count": 65,
   "id": "1317a360",
   "metadata": {},
   "outputs": [
    {
     "name": "stdout",
     "output_type": "stream",
     "text": [
      "999 3.055026054382324\n",
      "1999 2.931213855743408\n",
      "2999 2.832176923751831\n",
      "3999 2.7551655769348145\n",
      "4999 2.693279504776001\n",
      "5999 2.6408722400665283\n",
      "6999 2.5932226181030273\n",
      "7999 2.5490612983703613\n",
      "8999 2.5083606243133545\n",
      "9999 2.470337152481079\n"
     ]
    }
   ],
   "source": [
    "for t in range(int(10e3)):\n",
    "    # Compute forward pass and print loss\n",
    "    y_pred = model(X_t)\n",
    "    loss = loss_fn(y_pred, torch.argmax(y_t, dim=1))  # doesn't take one-hot encoded\n",
    "    \n",
    "    if t % 1000 == 999:\n",
    "        print(t, loss.item())\n",
    "    \n",
    "    # Zero the gradients before running the backward pass\n",
    "    optimizer.zero_grad()\n",
    "    \n",
    "    # Backpropagation\n",
    "    loss.backward()\n",
    "    \n",
    "    # Update weights using gradient descent\n",
    "    optimizer.step()"
   ]
  },
  {
   "cell_type": "code",
   "execution_count": 66,
   "id": "6151f782",
   "metadata": {},
   "outputs": [],
   "source": [
    "name, weights = list(model.named_parameters())[0]"
   ]
  },
  {
   "cell_type": "code",
   "execution_count": 67,
   "id": "cce93047",
   "metadata": {},
   "outputs": [],
   "source": [
    "w = weights.data.tolist()"
   ]
  },
  {
   "cell_type": "code",
   "execution_count": 68,
   "id": "ed6fa428",
   "metadata": {},
   "outputs": [],
   "source": [
    "# Create embedding dict\n",
    "\n",
    "embedding_dict = {}\n",
    "for idx, word in enumerate(unique_words):\n",
    "    embedding_dict[word] = (w[0][idx], w[1][idx])"
   ]
  },
  {
   "cell_type": "code",
   "execution_count": 69,
   "id": "bb36f592",
   "metadata": {},
   "outputs": [
    {
     "data": {
      "text/plain": [
       "{'beautiful': (0.8477770686149597, 0.7542559504508972),\n",
       " 'boy': (-0.31998804211616516, -1.0173211097717285),\n",
       " 'children': (-0.28870347142219543, 0.7289250493049622),\n",
       " 'daughter': (1.1857783794403076, 0.7064486145973206),\n",
       " 'family': (0.30006468296051025, 0.3182021379470825),\n",
       " 'future': (0.6042844653129578, 0.13751676678657532),\n",
       " 'king': (-0.9287204146385193, 0.03452605381608009),\n",
       " 'man': (0.8867284655570984, -0.7220445275306702),\n",
       " 'now': (0.8684091567993164, -0.8846240043640137),\n",
       " 'only': (0.27370283007621765, -0.5859041810035706),\n",
       " 'prince': (0.2048516869544983, -0.6950091123580933),\n",
       " 'princess': (0.29105421900749207, -0.6662549376487732),\n",
       " 'queen': (0.02048061229288578, 0.8370211720466614),\n",
       " 'realm': (-0.19176338613033295, 0.8194845914840698),\n",
       " 'royal': (-0.02828543446958065, 1.2688241004943848),\n",
       " 'rule': (0.26983606815338135, 0.9086438417434692),\n",
       " 'son': (-0.10500167310237885, -0.8579081892967224),\n",
       " 'strong': (-0.5024044513702393, -1.2159572839736938),\n",
       " 'their': (0.9739663600921631, 0.10652180016040802),\n",
       " 'will': (0.7626914381980896, -0.8043503761291504),\n",
       " 'woman': (1.1702722311019897, -0.809129536151886)}"
      ]
     },
     "execution_count": 69,
     "metadata": {},
     "output_type": "execute_result"
    }
   ],
   "source": [
    "embedding_dict"
   ]
  },
  {
   "cell_type": "code",
   "execution_count": 70,
   "id": "637cee0c",
   "metadata": {},
   "outputs": [
    {
     "data": {
      "image/png": "[encoded data removed]",
      "text/plain": [
       "<Figure size 720x720 with 1 Axes>"
      ]
     },
     "metadata": {
      "needs_background": "light"
     },
     "output_type": "display_data"
    }
   ],
   "source": [
    "import matplotlib.pyplot as plt\n",
    "plt.figure(figsize=(10, 10))\n",
    "\n",
    "for word in unique_words:\n",
    "    coord = embedding_dict[word]\n",
    "    plt.scatter(coord[0], coord[1])\n",
    "    plt.annotate(word, coord)\n",
    "    "
   ]
  },
  {
   "cell_type": "code",
   "execution_count": null,
   "id": "001bb8df",
   "metadata": {},
   "outputs": [],
   "source": []
  }
 ],
 "metadata": {
  "kernelspec": {
   "display_name": "Python 3 (ipykernel)",
   "language": "python",
   "name": "python3"
  },
  "language_info": {
   "codemirror_mode": {
    "name": "ipython",
    "version": 3
   },
   "file_extension": ".py",
   "mimetype": "text/x-python",
   "name": "python",
   "nbconvert_exporter": "python",
   "pygments_lexer": "ipython3",
   "version": "3.8.10"
  }
 },
 "nbformat": 4,
 "nbformat_minor": 5
}
